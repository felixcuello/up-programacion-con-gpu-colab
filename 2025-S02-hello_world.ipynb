{
  "nbformat": 4,
  "nbformat_minor": 0,
  "metadata": {
    "colab": {
      "provenance": [],
      "gpuType": "T4",
      "authorship_tag": "ABX9TyP/VLRegOT+J+MBGTmpce6H",
      "include_colab_link": true
    },
    "kernelspec": {
      "name": "python3",
      "display_name": "Python 3"
    },
    "language_info": {
      "name": "python"
    },
    "accelerator": "GPU"
  },
  "cells": [
    {
      "cell_type": "markdown",
      "metadata": {
        "id": "view-in-github",
        "colab_type": "text"
      },
      "source": [
        "<a href=\"https://colab.research.google.com/github/felixcuello/up-programacion-con-gpu-colab/blob/main/2025-S02-hello_world.ipynb\" target=\"_parent\"><img src=\"https://colab.research.google.com/assets/colab-badge.svg\" alt=\"Open In Colab\"/></a>"
      ]
    },
    {
      "cell_type": "markdown",
      "source": [
        "# Bienvenidos a Programación con GPU"
      ],
      "metadata": {
        "id": "ffc5Ep1dHoJB"
      }
    },
    {
      "cell_type": "markdown",
      "source": [
        "## 1. Escribir el Archivo\n",
        "\n",
        "El archivo se escribe de esta manera utilizando el `%%writefile hello_world.cu`. La extensión `.cu` es la extensión de C (pero con CUDA, como veremos más adelante)."
      ],
      "metadata": {
        "id": "DrYA7l6_I1rh"
      }
    },
    {
      "cell_type": "code",
      "source": [
        "%%writefile hello_world.cu\n",
        "\n",
        "#include <stdio.h>\n",
        "\n",
        "int main() {\n",
        "  printf(\"Hello world\\n\");\n",
        "  return 0;\n",
        "}"
      ],
      "metadata": {
        "colab": {
          "base_uri": "https://localhost:8080/"
        },
        "id": "m4_0lb3LHyhy",
        "outputId": "99f71b09-1b37-489e-bd02-c9997bbd5aff"
      },
      "execution_count": 1,
      "outputs": [
        {
          "output_type": "stream",
          "name": "stdout",
          "text": [
            "Writing hello_world.cu\n"
          ]
        }
      ]
    },
    {
      "cell_type": "markdown",
      "source": [
        "## Compilamos el archivo\n",
        "Tenemos que utilizar la siguiente línea de compilación para el archivo, ya que las GPUs que nos permite utilizar Google son unas RTX bastante elementales."
      ],
      "metadata": {
        "id": "NX8_EgdWIrHi"
      }
    },
    {
      "cell_type": "code",
      "source": [
        "!nvcc hello_world.cu -arch=sm_75 -gencode=arch=compute_75,code=sm_75 -o hello_world"
      ],
      "metadata": {
        "colab": {
          "base_uri": "https://localhost:8080/"
        },
        "id": "Vr0_L0FIIWtw",
        "outputId": "a48be75a-0ce2-4b2f-a40d-f1611153517a"
      },
      "execution_count": 4,
      "outputs": [
        {
          "output_type": "stream",
          "name": "stdout",
          "text": [
            "Hello world\n"
          ]
        }
      ]
    },
    {
      "cell_type": "markdown",
      "source": [
        "## 3. Ejecutamos el programa"
      ],
      "metadata": {
        "id": "WDtGaXwaJgrT"
      }
    },
    {
      "cell_type": "code",
      "source": [
        "!./hello_world"
      ],
      "metadata": {
        "colab": {
          "base_uri": "https://localhost:8080/"
        },
        "id": "5XFazY0_Ji6-",
        "outputId": "250545f7-ac6b-4cb2-ce0c-8b4a50d5874d"
      },
      "execution_count": 5,
      "outputs": [
        {
          "output_type": "stream",
          "name": "stdout",
          "text": [
            "Hello world\n"
          ]
        }
      ]
    }
  ]
}